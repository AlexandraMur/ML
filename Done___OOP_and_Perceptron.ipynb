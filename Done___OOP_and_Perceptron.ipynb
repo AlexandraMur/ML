{
  "nbformat": 4,
  "nbformat_minor": 0,
  "metadata": {
    "colab": {
      "name": "Done | OOP and Perceptron.ipynb",
      "version": "0.3.2",
      "provenance": []
    },
    "kernelspec": {
      "name": "python3",
      "display_name": "Python 3"
    }
  },
  "cells": [
    {
      "metadata": {
        "id": "IZc_oC20bmAf",
        "colab_type": "text"
      },
      "cell_type": "markdown",
      "source": [
        "# Задача семинара:\n",
        "\n",
        "1. Сделать базовый класс нейрона.\n",
        "2. Относледоваться для :\n",
        "> 2.1.   Обучения с помощью Adaline  для метода пакетного градиентного спуска  \n",
        "> 2.2.   Обучения с помощью стохастического градиентного спуска\n",
        "3. Протестить на данных все три способа обучения + разобраться с реализованными в sklearn\n",
        "\n",
        "\n",
        "\n",
        "\n",
        "\n"
      ]
    },
    {
      "metadata": {
        "id": "pRjDPa_6l8lE",
        "colab_type": "text"
      },
      "cell_type": "markdown",
      "source": [
        "# Часть 1. Базовый алгоритм"
      ]
    },
    {
      "metadata": {
        "id": "sFryYnOHnp_P",
        "colab_type": "text"
      },
      "cell_type": "markdown",
      "source": [
        "1. Инициализировать веса нулями либо малыми случайными значениями\n",
        "2. Для каждого входного образца $x^{(i)}$ выполняем:\n",
        "> 2.1 Вычисляем *y_pred*  \n",
        "> 2.2. Обновляем веса *w*\n",
        "\n",
        "\n",
        "$ w_j = w_j + \\Delta w_j$  \n",
        "$ \\Delta w_j = \\eta( y^{(i)} - y\\_pred^{(i)} )x_j^{(i)}$,  где   \n",
        "$\\eta$  - темп обучения (константа между 0.0 и 1.0)  \n",
        "$y^{(i)} $ - истинная метка класса  \n",
        "$y\\_pred^{(i)}$ - ответ, который получили\n",
        "\n",
        "\n",
        "\n",
        "---\n",
        "\n",
        "\n",
        "Т.е  \n",
        "Получаем *y_pred* и   \n",
        "$\\Delta w_0 = \\eta(y^{(i)} - y\\_pred^{(i)})$  \n",
        "$\\Delta w_1 = \\eta(y^{(i)} - y\\_pred^{(i)})x_1$  \n",
        "$\\Delta w_2 = \\eta(y^{(i)} - y\\_pred^{(i)})x_2$  \n",
        "\n",
        "Эти веса обновляются одновременно, мы не вычисляем $y\\_pred^{(i)}$ до тех пор, пока все веса $ w_j$ не будут обновлены. "
      ]
    },
    {
      "metadata": {
        "id": "Nj69Gy7rmBxM",
        "colab_type": "code",
        "colab": {}
      },
      "cell_type": "code",
      "source": [
        "import numpy as np\n",
        "\n",
        "class Perceptron:\n",
        "  \"\"\"\n",
        "  Атрибуты\n",
        "  w - одномернй массив весов\n",
        "  errors - число ошибочно классифицированных данных для каждой эпохи\n",
        "  \n",
        "  Методы\n",
        "  \n",
        "  __init__(какие должны быть параметры?)\n",
        "  \n",
        "  fit(какие должны быть параметры?)\n",
        "  \n",
        "  count_input(параметры, ю ноу какие)\n",
        "  \n",
        "  predict(тоже какие-то параметры)\n",
        "  \n",
        "  \"\"\"\n",
        "  \n",
        "  def __init__(self, eta=0.01, n_iter=100):\n",
        "    self.eta = eta\n",
        "    self.n_iter = n_iter\n",
        "    \n",
        "    \n",
        "  def fit(self, X, y):\n",
        "    \"\"\"\n",
        "    X = [n_samples, n_features] - number of samples, number of features\n",
        "    y = [n_samples] - target values\n",
        "    \"\"\"\n",
        "    self.w_ = np.zeros(1 + X.shape[1])\n",
        "    self.errors_ = []\n",
        "    \n",
        "    for _ in range(self.n_iter):\n",
        "      errors = 0\n",
        "      \n",
        "      for xi, target in zip(X, y):\n",
        "        update = self.eta * (target - self.predict(xi))\n",
        "        self.w_[1:] += update * xi\n",
        "        self.w_[0] += update\n",
        "        errors += int(update != 0.0)\n",
        "        \n",
        "      self.errors_.append(errors)\n",
        "    return self\n",
        "    \n",
        "  def count_input(self, X):\n",
        "    \"\"\"\n",
        "    Считаем чистый вход\n",
        "    \"\"\"\n",
        "    return X @ self.w_[1:] + self.w_[0]\n",
        "\n",
        "  def predict(self, X):\n",
        "    \"\"\"\n",
        "    Вернуть метку класса\n",
        "    \"\"\"\n",
        "    return 1 if self.count_input(X) >= 0.0 else -1\n",
        "      "
      ],
      "execution_count": 0,
      "outputs": []
    },
    {
      "metadata": {
        "id": "2gSN3inL5W4D",
        "colab_type": "code",
        "colab": {}
      },
      "cell_type": "code",
      "source": [
        "# testing perceptron\n",
        "import matplotlib.pyplot as plt\n",
        "\n",
        "import pandas as pd\n",
        "import numpy as np\n",
        "\n",
        "url = 'https://archive.ics.uci.edu/ml/machine-learning-databases/iris/iris.data'\n",
        "\n",
        "# preparing data\n",
        "df = pd.read_csv(url, header=None)\n",
        "\n",
        "y = df.iloc[0:100, 4].values\n",
        "y = np.where(y == 'Iris-setosa', -1, 1)\n",
        "\n",
        "X = df.iloc[0:100, [0,2]].values"
      ],
      "execution_count": 0,
      "outputs": []
    },
    {
      "metadata": {
        "id": "APRqgWsb1UJt",
        "colab_type": "code",
        "outputId": "072043a6-46bc-4c72-9a2f-709e9b72e88e",
        "colab": {
          "base_uri": "https://localhost:8080/",
          "height": 164
        }
      },
      "cell_type": "code",
      "source": [
        "X.head()"
      ],
      "execution_count": 0,
      "outputs": [
        {
          "output_type": "error",
          "ename": "NameError",
          "evalue": "ignored",
          "traceback": [
            "\u001b[0;31m---------------------------------------------------------------------------\u001b[0m",
            "\u001b[0;31mNameError\u001b[0m                                 Traceback (most recent call last)",
            "\u001b[0;32m<ipython-input-1-ae5cd47bda90>\u001b[0m in \u001b[0;36m<module>\u001b[0;34m()\u001b[0m\n\u001b[0;32m----> 1\u001b[0;31m \u001b[0mX\u001b[0m\u001b[0;34m.\u001b[0m\u001b[0mhead\u001b[0m\u001b[0;34m(\u001b[0m\u001b[0;34m)\u001b[0m\u001b[0;34m\u001b[0m\u001b[0;34m\u001b[0m\u001b[0m\n\u001b[0m",
            "\u001b[0;31mNameError\u001b[0m: name 'X' is not defined"
          ]
        }
      ]
    },
    {
      "metadata": {
        "id": "hDNwSUGQ7MRn",
        "colab_type": "code",
        "outputId": "1c4b3282-d162-40e3-9a2a-34db14498558",
        "colab": {
          "base_uri": "https://localhost:8080/",
          "height": 361
        }
      },
      "cell_type": "code",
      "source": [
        "# make pretty\n",
        "plt.scatter(X[:50,0], X[:50,1], color='red', marker='o', label='щетинистый')\n",
        "plt.scatter(X[50:100,0], X[50:100,1], color='blue', marker='x', label='разноцветный')\n",
        "\n",
        "plt.xlabel('длина чашелистика')\n",
        "plt.ylabel('длина лепестка')\n",
        "\n",
        "plt.legend(loc='upper left')\n",
        "plt.show()"
      ],
      "execution_count": 0,
      "outputs": [
        {
          "output_type": "display_data",
          "data": {
            "image/png": "[encoded data removed]",
            "text/plain": [
              "<Figure size 576x396 with 1 Axes>"
            ]
          },
          "metadata": {
            "tags": []
          }
        }
      ]
    },
    {
      "metadata": {
        "id": "yVex8fsO7rzk",
        "colab_type": "code",
        "outputId": "f9bbcee9-722e-4ebd-8ff5-bc3a16e10f15",
        "colab": {
          "base_uri": "https://localhost:8080/",
          "height": 34
        }
      },
      "cell_type": "code",
      "source": [
        "#train model\n",
        "simple_perceptron = Perceptron(eta=0.1, n_iter=10)\n",
        "simple_perceptron.fit(X, y)"
      ],
      "execution_count": 0,
      "outputs": [
        {
          "output_type": "execute_result",
          "data": {
            "text/plain": [
              "<__main__.Perceptron at 0x7f353299ada0>"
            ]
          },
          "metadata": {
            "tags": []
          },
          "execution_count": 42
        }
      ]
    },
    {
      "metadata": {
        "id": "_9BY7Gc17xsK",
        "colab_type": "code",
        "outputId": "998a5cc5-ad22-4f4e-af2d-dd0c376443d8",
        "colab": {
          "base_uri": "https://localhost:8080/",
          "height": 361
        }
      },
      "cell_type": "code",
      "source": [
        "# check results\n",
        "\n",
        "plt.plot(range(1, len(simple_perceptron.errors_)+1), simple_perceptron.errors_, marker='o')\n",
        "plt.xlabel('Эпохи')\n",
        "plt.ylabel('Число случаев ошибочной классификации')\n",
        "\n",
        "plt.show()"
      ],
      "execution_count": 0,
      "outputs": [
        {
          "output_type": "display_data",
          "data": {
            "image/png": "[encoded data removed]",
            "text/plain": [
              "<Figure size 576x396 with 1 Axes>"
            ]
          },
          "metadata": {
            "tags": []
          }
        }
      ]
    },
    {
      "metadata": {
        "id": "G_2AsrLymElJ",
        "colab_type": "text"
      },
      "cell_type": "markdown",
      "source": [
        "# Часть 2. ADAptive LInear NEuron (Adaline)"
      ]
    },
    {
      "metadata": {
        "id": "WE1e0nOm8GVw",
        "colab_type": "text"
      },
      "cell_type": "markdown",
      "source": [
        "Правило обучение ADALINE также известно как *правило Уидроу-Хопфа *, или дельта-правило. Основное отличие правила обучения ADALINE от правила персептона Розенблатта в том, что в нем для обновления весов используется **линейная функция активации**, а не единично ступенчетая как в персептроне. В Adaline эта функция активация $\\phi(z)$ представляет собой просто тождественное отображение чистого входа, в результате чего $\\phi(w^{T}x) = w^{T}x$.\n",
        "\n",
        "Но!  \n",
        "Помимо линейной функции активации, которая используется для извлечения весов, далее с целью определения меток класса используется **квантизатор** .\n",
        "\n",
        "### Зачем???? Тоже самое же!\n",
        "\n",
        "Но! Вместо бинарных меток классов теперь для вычисления ошибки модели и для обновления весов используется непрерывный выход из линейной функции активации.\n",
        "\n",
        "Ключевой задачей обучения с учителем в МЛ является задание *целевой функции*, которую необходимо оптимизировать в ходе обучения. Эта целевая функция является обычно *функцией потерь (лосс функцией (loss))*.\n",
        "\n",
        "В случае Adaline функцию потерь можно задать в виде **суммы квадратичных ошибок (sum of scuared errors, SSE)**: $J(w) = \\frac{1}{2}\\sum_{i=1}^n(y^{(i)} - \\phi(z^{i}))^2$\n",
        "\n",
        " И ее преимущество в том, что она становится дифференцируемой. Еще она выпуклая => удобно ипользовать **метод градиентного спуска** для нахождения весов, которые минимизируют функцию потерь.  \n",
        "\n",
        "\n",
        "$ w_j = w_j + \\Delta w_j$ , где  \n",
        "$\\Delta w_j = - \\eta \\nabla J(w)$,  \n",
        "$\\eta $ - темп обучения\n",
        "\n",
        "$\\nabla J(w) = \\frac{\\delta J}{\\delta w_j} = - \\sum_{i} (y^{(i)} - \\phi(z^{i}))x_j^{(i)}$.  (кто-нить сможет взять производную у доски?)\n",
        "\n",
        "Тогда $\\Delta w_j$ можно записать как: \n",
        "$\\Delta w_j = - \\eta \\nabla J(w) = \\eta\\sum_{i} (y^{(i)} - \\phi(z^{i}))x_j^{(i)}$. \n",
        "\n",
        "В отличие от простого персептрона, у алгоритма *Adaline* $\\phi(z^{i})$ является вещественным числом (в обычном персептроне это было целое - метка класса).\n",
        "\n",
        "К тому же здесь обновление весов происходит на основе всех сэмплов тренировочной выборки (вместо обновления после каждого образца). Такой подход называется \"пакетным\" (batch) градиентным спуском."
      ]
    },
    {
      "metadata": {
        "id": "7mQj40TmmTgZ",
        "colab_type": "code",
        "colab": {}
      },
      "cell_type": "code",
      "source": [
        "class AdalineGD(Perceptron):\n",
        "  \"\"\"\n",
        "  Что надо переопределить, а что будет также?\n",
        "  \"\"\"\n",
        "  \n",
        "  def fit(self, X, y):\n",
        "    self.w_ = np.zeros(1 + X.shape[1])\n",
        "    self.cost_ = []\n",
        "    \n",
        "    for i in range(self.n_iter):\n",
        "      output = self.count_input(X)\n",
        "      errors = (y - output)\n",
        "      self.w_[1:] += self.eta * X.T @ errors\n",
        "      self.w_[0] += self.eta * errors.sum()\n",
        "      cost = (errors**2).sum() / 2.0\n",
        "      \n",
        "      self.cost_.append(cost)\n",
        "      \n",
        "    return self\n",
        "    \n",
        "  def activation(self, X):\n",
        "    return self.count_input(X)\n",
        "  \n",
        "  def predict(self, X):\n",
        "    return 1 if self.activation(X) >= 0 else -1"
      ],
      "execution_count": 0,
      "outputs": []
    },
    {
      "metadata": {
        "id": "vHXaEyUE9Wn7",
        "colab_type": "code",
        "outputId": "298b883e-51bc-4c96-b6ca-386b5d47ade7",
        "colab": {
          "base_uri": "https://localhost:8080/",
          "height": 34
        }
      },
      "cell_type": "code",
      "source": [
        "# train model\n",
        "\n",
        "ada_perceptron_1 = AdalineGD(eta=0.1, n_iter=10)\n",
        "ada_perceptron_1.fit(X, y)"
      ],
      "execution_count": 0,
      "outputs": [
        {
          "output_type": "execute_result",
          "data": {
            "text/plain": [
              "<__main__.AdalineGD at 0x7f35328b0198>"
            ]
          },
          "metadata": {
            "tags": []
          },
          "execution_count": 49
        }
      ]
    },
    {
      "metadata": {
        "id": "Fmr9Oug4at2G",
        "colab_type": "code",
        "outputId": "3d66bfaf-812e-4c50-8647-a678fb427d04",
        "colab": {
          "base_uri": "https://localhost:8080/",
          "height": 34
        }
      },
      "cell_type": "code",
      "source": [
        "ada_perceptron_2 = AdalineGD(eta=0.000001, n_iter=10)\n",
        "ada_perceptron_2.fit(X, y)"
      ],
      "execution_count": 0,
      "outputs": [
        {
          "output_type": "execute_result",
          "data": {
            "text/plain": [
              "<__main__.AdalineGD at 0x7f35328b0208>"
            ]
          },
          "metadata": {
            "tags": []
          },
          "execution_count": 50
        }
      ]
    },
    {
      "metadata": {
        "id": "qMOm56Fq_Eas",
        "colab_type": "code",
        "outputId": "ed04e68f-cff4-4671-e904-14d9c9570522",
        "colab": {
          "base_uri": "https://localhost:8080/",
          "height": 295
        }
      },
      "cell_type": "code",
      "source": [
        "# check results on different speed values\n",
        "\n",
        "fig, ax = plt.subplots(nrows=1, ncols=2, figsize=(8,4))\n",
        "\n",
        "ax[0].plot(range(1, len(ada_perceptron_1.cost_) + 1), np.log10(ada_perceptron_1.cost_), marker='o')\n",
        "ax[0].set_xlabel(\"Эпохи\")\n",
        "ax[0].set_ylabel(\"log(Сумма квадратичных ошибок)\")\n",
        "ax[0].set_title(\"Темп обучения 0.1\")\n",
        "\n",
        "ax[1].plot(range(1, len(ada_perceptron_2.cost_) + 1), ada_perceptron_2.cost_, marker='o')\n",
        "ax[1].set_xlabel(\"Эпохи\")\n",
        "ax[1].set_ylabel(\"Сумма квадратичных ошибок\")\n",
        "ax[1].set_title(\"Темп обучения 0.000001\")\n",
        "\n",
        "plt.show()"
      ],
      "execution_count": 0,
      "outputs": [
        {
          "output_type": "display_data",
          "data": {
            "image/png": "[encoded data removed]",
            "text/plain": [
              "<Figure size 576x288 with 2 Axes>"
            ]
          },
          "metadata": {
            "tags": []
          }
        }
      ]
    },
    {
      "metadata": {
        "id": "E6pix7SHb2cO",
        "colab_type": "text"
      },
      "cell_type": "markdown",
      "source": [
        "О чем говорят эти графики?\n",
        "\n",
        "На правом графике - стоимость уменьшается.\n",
        "\n",
        "На втором графике тем обучения настолько низок, что алгоритму потребовалось бы большое количество эпох."
      ]
    },
    {
      "metadata": {
        "id": "kMPpQn7OmZCU",
        "colab_type": "text"
      },
      "cell_type": "markdown",
      "source": [
        "# Часть 3. Stochastic Gradient Descent (SGD)"
      ]
    },
    {
      "metadata": {
        "id": "u35Lardu_NTM",
        "colab_type": "text"
      },
      "cell_type": "markdown",
      "source": [
        "\\- Какая сложность у алгоритма градиентного спуска?  \n",
        "\\- Кажется сложная.  \n",
        "\n",
        "\n",
        "Что делать, когда данных очень много? Какие проблемы могут быть?\n",
        "1. Долго считаться будет\n",
        "2. Не влезет в ОП\n",
        "3. Не влезет в видеокарту\n",
        "\n",
        "Надо что-то делать.  \n",
        "Популярной альтернативой является **Стохастический градиентный спуск**.  \n",
        "Теперь мы будем обновлять веса инкрементно по каждому тренировочному образцу $\\eta(y^{(i)} - \\phi(z^{(i)}))x^{(i)}$  \n",
        "\n",
        "---\n",
        "\n",
        "Стохастический градиентный спуск можно рассматривать как [аппроксимацию](https://ru.wikipedia.org/wiki/%D0%90%D0%BF%D0%BF%D1%80%D0%BE%D0%BA%D1%81%D0%B8%D0%BC%D0%B0%D1%86%D0%B8%D1%8F) градиентного спуска. Обычно стохастический градиентный спуск достигает сходимости намного быстрее из-за более частых обновлений весов. Так как каждый градиент рассчитывается на одном тренировочном примере, поверхность ошибок более зашумленна, чем в традиционном градиентном спуске, что также является преимуществом, так как из-за этого он может лучше выходить из мелких локальных минимумов.  \n",
        "  \n",
        "---\n",
        "\n",
        "Для точных результатов методом стохастического градиентного спуска важно предоставить ему данные в произвольном порядке. Для этого необходимо перемешивать выборку в каждой эпохе.\n",
        "\n",
        "---\n",
        "\n",
        "Также стохастический градиентный спуск можно использовать для динамического (онлайн) обучения. В динамическом обучении модель обучается по мере поступления новых данных. Используя динамическое обучение, система может сразу адаптироваться к изменениям, и тренировочные данные могут быть отброшены после обновления модели, в случае, когда количество памяти ограничено.\n",
        "\n",
        "---\n",
        "\n",
        "Компромиссом между градиентным спуском и стахостическим градиентным спуском является **мини-пакетное (mini-batch) обучение. Мини-пакетное обучение** - применение градиентного спуска к подмножествам данных меньшего размера, например, по 100 сэмплов за раз. \n",
        "\n",
        "Преимуществом такого подхода будет в том, что благодаря мини-пакетам сходимость достигается быстрее из-за более частых обновлений весов. "
      ]
    },
    {
      "metadata": {
        "id": "PG2JV5C6QyeD",
        "colab_type": "code",
        "colab": {}
      },
      "cell_type": "code",
      "source": [
        "from numpy.random import seed\n",
        "\n",
        "class AdalineSGD(AdalineGD):\n",
        "  \"\"\"\n",
        "  Атрибуты:\n",
        "  random_state - генератор случайных чисел для перемешивания и инициализации весов\n",
        "  \n",
        "  Методы:\n",
        "  __init__(какие параметры теперь должны быть?)\n",
        "  fit(тут что-то изменится?)\n",
        "  partial_fit\n",
        "  _shuffle\n",
        "  _initialize_weights\n",
        "  _update_weights\n",
        "  \n",
        "  \"\"\"\n",
        "  \n",
        "  def __init__(self, eta=0.1, n_iter=100, random_state=None):\n",
        "    self.eta = eta\n",
        "    self.n_iter = n_iter\n",
        "    self.w_initialized = False\n",
        "    \n",
        "    if random_state:\n",
        "      seed(random_state)\n",
        "      \n",
        "  def fit(self, X, y):\n",
        "    self._initialize_weights(X.shape[1])\n",
        "    self.cost_ = []\n",
        "    \n",
        "    for i in range(self.n_iter):\n",
        "      X, y = self._shuffle(X, y)\n",
        "      cost = []\n",
        "      \n",
        "      for xi, target in zip(X, y):\n",
        "        cost.append(self._update_weights(xi, target))\n",
        "        \n",
        "      avg_cost = sum(cost) / len(y)\n",
        "      self.cost_.append(avg_cost)\n",
        "     \n",
        "    return self\n",
        "  \n",
        "  \n",
        "  def partial_fit(self, X, y):\n",
        "    \"обучение без повторной инициализации весов\"\n",
        "    \n",
        "    if not self.w_initialized:\n",
        "      self._initialize_weights(X.shape[1])\n",
        "  \n",
        "    if y.ravel().shape[0] > 1:\n",
        "      for xi, target in zip(X, y):\n",
        "        self._update_weights(xi, target)\n",
        "    else:\n",
        "      self._update_weights(X, y)\n",
        "      \n",
        "    return self\n",
        "  \n",
        "  \n",
        "  def _shuffle(self, X, y):\n",
        "    r = np.random.permutation(len(y))\n",
        "    return X[r], y[r]\n",
        "  \n",
        "  \n",
        "  def _initialize_weights(self, m):\n",
        "    self.w_ = np.zeros(1 + m)\n",
        "    self.w_initialized = True\n",
        "    \n",
        "    \n",
        "  def _update_weights(self, xi, target):\n",
        "    output = self.count_input(xi)\n",
        "    error = (target - output)\n",
        "    self.w_[1:] += self.eta * xi.dot(error)\n",
        "    self.w_[0] += self.eta * error\n",
        "    \n",
        "    cost = error ** 2 / 2.0\n",
        "    \n",
        "    return cost\n",
        "\n",
        "  "
      ],
      "execution_count": 0,
      "outputs": []
    },
    {
      "metadata": {
        "id": "2tbCn_O3hF1U",
        "colab_type": "code",
        "outputId": "2d5c8c94-4bd7-4e7e-d808-9d0d338692cb",
        "colab": {
          "base_uri": "https://localhost:8080/",
          "height": 68
        }
      },
      "cell_type": "code",
      "source": [
        "# fit model\n",
        "\n",
        "ada_sgd = AdalineSGD(n_iter=15, eta=0.1, random_state=1)\n",
        "ada_sgd.fit(X, y)"
      ],
      "execution_count": 0,
      "outputs": [
        {
          "output_type": "stream",
          "text": [
            "/usr/local/lib/python3.6/dist-packages/ipykernel_launcher.py:74: RuntimeWarning: overflow encountered in double_scalars\n",
            "/usr/local/lib/python3.6/dist-packages/ipykernel_launcher.py:71: RuntimeWarning: invalid value encountered in add\n"
          ],
          "name": "stderr"
        },
        {
          "output_type": "execute_result",
          "data": {
            "text/plain": [
              "<__main__.AdalineSGD at 0x7f35327d0860>"
            ]
          },
          "metadata": {
            "tags": []
          },
          "execution_count": 67
        }
      ]
    },
    {
      "metadata": {
        "id": "pR5v1M6Mh0V5",
        "colab_type": "code",
        "colab": {}
      },
      "cell_type": "code",
      "source": [
        "# check results\n",
        "\n",
        "# сами"
      ],
      "execution_count": 0,
      "outputs": []
    },
    {
      "metadata": {
        "id": "9wvvgcuSmp02",
        "colab_type": "text"
      },
      "cell_type": "markdown",
      "source": [
        "# Часть 4. Тестируем"
      ]
    },
    {
      "metadata": {
        "id": "b51dQ4fWmstz",
        "colab_type": "code",
        "colab": {}
      },
      "cell_type": "code",
      "source": [
        "#Сравнить с Sklearn"
      ],
      "execution_count": 0,
      "outputs": []
    },
    {
      "metadata": {
        "id": "AKCL2yyYijHp",
        "colab_type": "code",
        "colab": {}
      },
      "cell_type": "code",
      "source": [
        ""
      ],
      "execution_count": 0,
      "outputs": []
    }
  ]
}